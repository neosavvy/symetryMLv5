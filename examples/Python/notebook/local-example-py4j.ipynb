{
 "cells": [
  {
   "cell_type": "code",
   "execution_count": null,
   "metadata": {},
   "outputs": [],
   "source": [
    "# comment / uncomment if needed\n",
    "import sys\n",
    "sys.path.append(\"/opt/symetry/python\") "
   ]
  },
  {
   "cell_type": "code",
   "execution_count": null,
   "metadata": {},
   "outputs": [],
   "source": [
    "%matplotlib inline\n",
    "\n",
    "import matplotlib.pyplot as plt\n",
    "import numpy as np\n",
    "import pandas as pd\n",
    "import pathlib\n",
    "import py4j.java_gateway as py4jjg\n",
    "import sys\n",
    "import time\n",
    "\n",
    "print(\"irisExample.ipynb start\")\n",
    "\n",
    "import SMLPy4JGateway as smlgw"
   ]
  },
  {
   "cell_type": "code",
   "execution_count": null,
   "metadata": {},
   "outputs": [],
   "source": [
    "# Start the Py4J server.\n",
    "gateway_server = smlgw.SMLPy4JGatewayServer(java_classpath='/opt/symetry/lib/*')"
   ]
  },
  {
   "cell_type": "code",
   "execution_count": null,
   "metadata": {},
   "outputs": [],
   "source": [
    "print('Getting the Python client.')\n",
    "# Delay to allow Py4J gateway server to be ready.\n",
    "time.sleep(2)\n",
    "gateway = smlgw.get_python_client()\n",
    "sml = gateway.jvm"
   ]
  },
  {
   "cell_type": "code",
   "execution_count": null,
   "metadata": {},
   "outputs": [],
   "source": [
    "# Create a local, unpersisted SML project.\n",
    "user = 'c1'\n",
    "prj_name = 'my_prj'\n",
    "prj_type = 0\n",
    "persist = False\n",
    "\n",
    "prj = smlgw.createSMLProject(\n",
    "    gateway,\n",
    "    user,\n",
    "    prj_name,\n",
    "    prj_type,\n",
    "    persist)"
   ]
  },
  {
   "cell_type": "code",
   "execution_count": null,
   "metadata": {},
   "outputs": [],
   "source": [
    "dataset = \"/datasets/c/IrisFiles/Iris_data.csv\"\n",
    "print(\"Learn dataset %s.\" % dataset)\n",
    "header_read = False\n",
    "CHUNK_SIZE = 50\n",
    "row_count = 0\n",
    "reader = pd.read_csv(dataset, sep=',', header=0, dtype=object, chunksize=CHUNK_SIZE)\n",
    "for pdf in reader:\n",
    "    if not header_read:\n",
    "        cols = pdf.columns\n",
    "        attr_names = list(cols)\n",
    "\n",
    "        # Guess the SML attribute types.\n",
    "        pdf_test_json = smlgw.pandas_df_to_sml_json(pdf)\n",
    "        test_jdf = sml.DataFrame()\n",
    "        test_jdf.fromJSON(pdf_test_json)\n",
    "        attr_type_chars = sml.com.rtlm.util.AttributeTypes.guessTypes(test_jdf)\n",
    "        attr_types = \",\".join([str(atc) for atc in attr_type_chars])\n",
    "\n",
    "        print(\"SML Attribute Names: [%r]\" % attr_names)\n",
    "        print(\"SML Attribute Types: [%r]\" % attr_types)\n",
    "        header_read = True\n",
    "\n",
    "    # Next step is important: needs to use the utility function 'pandas_df_to_sml_json' to\n",
    "    # serialize pandas dataframe to a json string so that symetryml can efficiently \n",
    "    # create a sml dataframe from a python dataframe.\n",
    "    pdfJson = smlgw.pandas_df_to_sml_json(pdf, attr_types)\n",
    "    jdf = sml.DataFrame()\n",
    "    jdf.fromJSON(pdfJson) # we got our dataframe, ready to learn it!\n",
    "    prj.learn(jdf)\n",
    "\n",
    "    row_count += jdf.getSize()\n",
    "    print(\"Rows processed: %d\" % row_count)"
   ]
  },
  {
   "cell_type": "code",
   "execution_count": null,
   "metadata": {},
   "outputs": [],
   "source": [
    "print(\"Exploring the data.\")\n",
    "print(\"Total number of attributes: %d\" % len(attr_names))\n",
    "m1 = prj.univariate(7)\n",
    "m2 = prj.univariate(\"sepal_width_b2\")\n",
    "print(\"Attribute 7 univariate stats: %r\" % m1)\n",
    "print(\"Attribute sepal_width_b2 univariate stats (should be the same): %r\" % m2)"
   ]
  },
  {
   "cell_type": "code",
   "execution_count": null,
   "metadata": {},
   "outputs": [],
   "source": [
    "print(\"Measuring some univariate stats.\")\n",
    "x = range(1, len(attr_names))\n",
    "attr_variance = [prj.univariate(i-1)[\"variance\"] for i in x]\n",
    "attr_mean = [prj.univariate(i-1)[\"mean\"] for i in x]\n",
    "print(\"Attribute variances: %r\" % attr_variance)\n",
    "print(\"Attribute means: %r\" % attr_mean)"
   ]
  },
  {
   "cell_type": "code",
   "execution_count": null,
   "metadata": {},
   "outputs": [],
   "source": [
    "print(\"Plotting Distributions\")\n",
    "slv = prj.univariate(\"sepal_length\")['stddev']\n",
    "slm = prj.univariate(\"sepal_length\")['mean']\n",
    "swv = prj.univariate(\"sepal_width\")['stddev']\n",
    "swm = prj.univariate(\"sepal_width\")['mean']\n",
    "plv = prj.univariate(\"petal_length\")['stddev']\n",
    "plm = prj.univariate(\"petal_length\")['mean']\n",
    "pwv = prj.univariate(\"petal_width\")['stddev']\n",
    "pwm = prj.univariate(\"petal_width\")['mean']\n",
    "x = ['sepal_length','sepal_width','petal_length','petal_width']\n",
    "e = np.array([slv,swv,plv,pwv])\n",
    "y = np.array([slm,swm,plm,pwm])\n",
    "plt.errorbar(x, y, e, linestyle='None', marker='^')\n",
    "plt.title('Distribution: Sepal|Petal width & length')\n",
    "plt.show()"
   ]
  },
  {
   "cell_type": "code",
   "execution_count": null,
   "metadata": {},
   "outputs": [],
   "source": [
    "print(\"Measuring some bivariate stats.\")\n",
    "b1 = prj.bivariate(0, 2)\n",
    "print(\"Bivariate stats for attributes [sepal_length, petal_length]: linear correlation = %.2f, covariance = %.2f\" %\n",
    "    (b1[\"linCorr\"], b1[\"covar\"]))"
   ]
  },
  {
   "cell_type": "code",
   "execution_count": null,
   "metadata": {},
   "outputs": [],
   "source": [
    "print(\"Calculating all of the pairwise coefficients.\")\n",
    "lin_corr = []\n",
    "for attr1, attr1_name in enumerate(attr_names):\n",
    "    temp = []\n",
    "    for attr2, attr2_name in enumerate(attr_names):\n",
    "        b1 = prj.bivariate(attr1, attr2)\n",
    "        temp.append(b1[\"linCorr\"])\n",
    "    lin_corr.append(temp)\n",
    "    \n",
    "plt.xticks(range(0, len(attr_names)))\n",
    "plt.yticks(range(0, len(attr_names)))\n",
    "plt.imshow(lin_corr, cmap=\"hot\", interpolation='none')\n",
    "plt.title(\"Linear Correlation\")\n",
    "_ = plt.colorbar()"
   ]
  },
  {
   "cell_type": "code",
   "execution_count": null,
   "metadata": {},
   "outputs": [],
   "source": [
    "# Perform z test.\n",
    "print(\"Performing Z test.\")\n",
    "zres = prj.ztest(0, 6, 7)\n",
    "print(\"Z test for attributes [sepal_length, sepal_width_b1, sepal_width_b2]: z = %.2f, zp = %.2f\" %\n",
    "    (zres[6], zres[7]))"
   ]
  },
  {
   "cell_type": "code",
   "execution_count": null,
   "metadata": {},
   "outputs": [],
   "source": [
    "print(\"Performing PCA exploration with [sepal_length, sepal_width, petal_width].\")\n",
    "attr_ind_name_map = sml.java.util.TreeMap()\n",
    "attr_ind_name_map.put(0, 'sepal_length')\n",
    "attr_ind_name_map.put(1, 'sepal_width')\n",
    "attr_ind_name_map.put(3, 'petal_width')\n",
    "pcaRsp = prj.pca(attr_ind_name_map, np.NAN,False)  # returns a tuple[eigenvalues,eigenvectors]\n",
    "pcaRspEVals = pcaRsp.getEigenValues()\n",
    "pcaRspEVecs = pcaRsp.getEigenVectors()\n",
    "e2 = []\n",
    "v2 = []\n",
    "eValColCnt = pcaRspEVals.getColumnCount()\n",
    "eVecColCnt = pcaRspEVecs.getColumnCount()\n",
    "for i in range(eValColCnt):\n",
    "    e2.append(pcaRspEVals.getIndexValue(0, i))\n",
    "for i in range(eValColCnt):\n",
    "    temp = []\n",
    "    for j in range(eVecColCnt):\n",
    "        temp.append(pcaRspEVecs.getIndexValue(i, j))\n",
    "    v2.append(temp)\n",
    "print(\"Eigen Values: %r\" % e2)\n",
    "print(\"Eigen Vectors: %r\" % v2)"
   ]
  },
  {
   "cell_type": "code",
   "execution_count": null,
   "metadata": {},
   "outputs": [],
   "source": [
    "print(\"Building model with Iris_versicolor as target.\")\n",
    "input_attr_map = sml.java.util.TreeMap()\n",
    "input_attr_map.put(0, 'sepal_length')\n",
    "input_attr_map.put(1, 'sepal_width')\n",
    "input_attr_map.put(2, 'petal_length')\n",
    "input_attr_map.put(3, 'petal_width')\n",
    "int_class = gateway.jvm.int\n",
    "target_attr_arr = gateway.new_array(int_class, 1)\n",
    "target_attr_arr[0] = 13\n",
    "rez = prj.buildModel(input_attr_map, target_attr_arr, \"lda\", \"irisLDAModel\", None)"
   ]
  },
  {
   "cell_type": "code",
   "execution_count": null,
   "metadata": {},
   "outputs": [],
   "source": [
    "#print(rez)\n",
    "status_str = sml.CoreUtil.getErrorString(rez)\n",
    "print(status_str)"
   ]
  },
  {
   "cell_type": "code",
   "execution_count": null,
   "metadata": {},
   "outputs": [],
   "source": [
    "print(\"Making prediction.\")\n",
    "# Build prediction SML DataFrame\n",
    "col = [\"sepal_length\", \"sepal_width\", \"petal_length\", \"petal_width\"]\n",
    "String_class = gateway.jvm.String\n",
    "sel_attr_names = gateway.new_array(String_class, len(col))\n",
    "for i, attr_name in enumerate(col):\n",
    "    sel_attr_names[i] = attr_name\n",
    "types = 'C,C,C,C'\n",
    "sel_attr_types = sml.com.rtlm.util.AttributeTypes.getTypes(types)\n",
    "df = sml.com.rtlm.json.DataFrame()\n",
    "df.setAttributeNames(sel_attr_names)\n",
    "df.setAttributeTypes(sel_attr_types)\n",
    "d = [\"4.9\", \"2.4\", \"3.3\", \"1\"]\n",
    "sel_attr_vals = gateway.new_array(String_class, len(d))\n",
    "for i, attr_val in enumerate(d):\n",
    "    sel_attr_vals[i] = attr_val\n",
    "df.addTuple(sel_attr_vals)\n",
    "results1 = prj.predict(df, \"irisLDAModel\")\n",
    "print(\"Predicted value of Iris_versicolor (should be 1): %s\" % results1[\"res\"])"
   ]
  },
  {
   "cell_type": "code",
   "execution_count": null,
   "metadata": {},
   "outputs": [],
   "source": [
    "print(\"Making prediction.\")\n",
    "# Reset prediction SML DataFrame\n",
    "df.clear()\n",
    "d2 = [\"4.3\", \"3\", \"1.0\", \"0.1\"]\n",
    "sel_attr_vals = gateway.new_array(String_class, len(d))\n",
    "for i, attr_val in enumerate(d2):\n",
    "    sel_attr_vals[i] = attr_val\n",
    "df.addTuple(sel_attr_vals)\n",
    "results2 = prj.predict(df, \"irisLDAModel\")\n",
    "print(\"Predicted value of Iris_versicolor (should be 0): %s\" % results2[\"res\"])"
   ]
  },
  {
   "cell_type": "code",
   "execution_count": null,
   "metadata": {},
   "outputs": [],
   "source": [
    "# Clean up\n",
    "prj.deleteModel(\"irisLDAModel\")\n",
    "prj.clear()\n",
    "gateway.shutdown()\n",
    "gateway_server.kill_server()"
   ]
  },
  {
   "cell_type": "code",
   "execution_count": null,
   "metadata": {},
   "outputs": [],
   "source": []
  },
  {
   "cell_type": "code",
   "execution_count": null,
   "metadata": {},
   "outputs": [],
   "source": []
  }
 ],
 "metadata": {
  "@webio": {
   "lastCommId": null,
   "lastKernelId": null
  },
  "kernelspec": {
   "display_name": "Python 3",
   "language": "python",
   "name": "python3"
  },
  "language_info": {
   "codemirror_mode": {
    "name": "ipython",
    "version": 3
   },
   "file_extension": ".py",
   "mimetype": "text/x-python",
   "name": "python",
   "nbconvert_exporter": "python",
   "pygments_lexer": "ipython3",
   "version": "3.6.7"
  }
 },
 "nbformat": 4,
 "nbformat_minor": 2
}
