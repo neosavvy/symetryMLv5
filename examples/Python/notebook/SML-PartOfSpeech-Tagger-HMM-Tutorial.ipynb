{
 "cells": [
  {
   "cell_type": "markdown",
   "metadata": {},
   "source": [
    "# SymetryML Hidden Markov Model Part of Speech tagger Tutorial\n",
    "\n",
    "This tutorial gives an example on how to use SymetryML to build a Part of speech tagger using the Brown universal corpus\n",
    "\n",
    "Please make sure that\n",
    "\n",
    "* `sym-spark-assembly.jar` is present in `/opt/symetry/lib/` folder\n",
    "* `SMLPy4JGateway.py` is present in `/opt/symetry/python` folder"
   ]
  },
  {
   "cell_type": "code",
   "execution_count": null,
   "metadata": {},
   "outputs": [],
   "source": [
    "import sys\n",
    "sys.path.append(\"/opt/symetry/python\")\n",
    "\n",
    "import matplotlib.pyplot as plt\n",
    "import numpy as np\n",
    "import pandas as pd\n",
    "import pathlib\n",
    "import py4j.java_gateway as py4jjg\n",
    "import sys\n",
    "import time\n",
    "\n",
    "import SMLPy4JGateway as smlgw\n",
    "\n",
    "from collections import Counter, defaultdict, namedtuple, OrderedDict\n",
    "import random"
   ]
  },
  {
   "cell_type": "code",
   "execution_count": null,
   "metadata": {},
   "outputs": [],
   "source": [
    "# Some helper function to load and splits (train / test) the Brown sentences\n",
    "# ============================================================\n",
    "def read_data(filename):\n",
    "    Sentence = namedtuple(\"sentences\", \"words tags\")\n",
    "    with open(filename, 'r') as f:\n",
    "        sentence_lines = [l.split(\"\\n\") for l in f.read().split(\"\\n\\n\")]\n",
    "    return OrderedDict(((s[0], Sentence(*zip(*[l.strip().split(\"\\t\")\n",
    "                        for l in s[1:]]))) for s in sentence_lines if s[0]))\n",
    "# ============================================================\n",
    "def get_df_for_keys(in_keys, in_data):\n",
    "    acc_a = []\n",
    "    for k in in_keys:\n",
    "        the_data = in_data[k] \n",
    "        words = the_data[0]\n",
    "        pos = the_data[1]\n",
    "        for i in range(0, len(words)):\n",
    "            a_w = words[i]\n",
    "            a_pos = pos[i]  \n",
    "            newt = (a_w, a_pos)\n",
    "            acc_a.append(newt)         \n",
    "    rval = pd.DataFrame(acc_a, columns=['word', 'pos'])\n",
    "    return rval\n",
    "\n",
    "# ============================================================\n",
    "# split data into arrays of dataframe for each sentence\n",
    "def split_data(data, split=0.8, seed=1):\n",
    "    keys = tuple(data.keys())\n",
    "    _keys = list(keys)\n",
    "    if seed is not None: \n",
    "        random.seed(seed)\n",
    "    random.shuffle(_keys)\n",
    "    split_idx = int(split * len(_keys))\n",
    "\n",
    "    training_keys = _keys[:split_idx]\n",
    "    testing_keys =  _keys[split_idx:]\n",
    "    \n",
    "    rval_train = get_df_for_keys(training_keys, data)\n",
    "    rval_test = get_df_for_keys(testing_keys, data)        \n",
    "\n",
    "    return rval_train, rval_test, training_keys, testing_keys "
   ]
  },
  {
   "cell_type": "markdown",
   "metadata": {},
   "source": [
    "# Start the java gateway\n",
    "\n",
    "* It is also possible to pass extra JVM parameters using the `jvm_options` optional parameters:\n",
    "    * `jvm_options=\"-Xms2g -Xmx4g\"`\n",
    "* Normally `java_classpath` should points to `/opt/symetry/lib/*`, e.g.:\n",
    "    * `java_classpath='/opt/symetry/lib/*'`"
   ]
  },
  {
   "cell_type": "code",
   "execution_count": null,
   "metadata": {},
   "outputs": [],
   "source": [
    "# Start the Py4J server.\n",
    "gateway_server = smlgw.SMLPy4JGatewayServer(java_classpath='/opt/symetry/lib/*')"
   ]
  },
  {
   "cell_type": "markdown",
   "metadata": {},
   "source": [
    "# Getting the Python client"
   ]
  },
  {
   "cell_type": "code",
   "execution_count": null,
   "metadata": {},
   "outputs": [],
   "source": [
    "# Delay to allow Py4J gateway server to be ready.\n",
    "time.sleep(2)\n",
    "gateway = smlgw.get_python_client()\n",
    "sml = gateway.jvm"
   ]
  },
  {
   "cell_type": "markdown",
   "metadata": {},
   "source": [
    "# Create a local, unpersisted SML project. \n",
    "\n",
    "* In order to use SymetryML's Hidden Markov Model we need to specify that we want a sequence project, this is achieved by passing either `21` or `\"sequence\"` as the project type in the following code block:"
   ]
  },
  {
   "cell_type": "code",
   "execution_count": null,
   "metadata": {},
   "outputs": [],
   "source": [
    "user = 'c1'\n",
    "prj_name = 'smlPOSTagger'\n",
    "prj_type = 'sequence'   # sequence project, 21 would also be valid\n",
    "persist = False\n",
    "\n",
    "prj = smlgw.createSMLProject(\n",
    "    gateway,\n",
    "    user,\n",
    "    prj_name,\n",
    "    prj_type,\n",
    "    persist)"
   ]
  },
  {
   "cell_type": "code",
   "execution_count": null,
   "metadata": {},
   "outputs": [],
   "source": [
    "%%time\n",
    "# load the brown corpus into 2 datasets : train and spliting\n",
    "the_data = read_data(\"./brown-universal.txt\")\n",
    "train_df, test_df, train_keys, test_keys = split_data(the_data)\n",
    "print(len(train_df))"
   ]
  },
  {
   "cell_type": "markdown",
   "metadata": {},
   "source": [
    "# Process/ingest the training dataframe into the SymetryProject"
   ]
  },
  {
   "cell_type": "code",
   "execution_count": null,
   "metadata": {},
   "outputs": [],
   "source": [
    "%%time\n",
    "order = 2\n",
    "attr_types = \"T,T\"\n",
    "row_count = 0\n",
    "ll = len(train_df)\n",
    "\n",
    "\n",
    "pdfJson = smlgw.pandas_df_to_sml_json(train_df, attr_types)\n",
    "jdf = sml.DataFrame()\n",
    "jdf.fromJSON(pdfJson)\n",
    "prj.learnSequence(jdf, order)\n",
    "\n",
    "row_count += jdf.getSize()\n",
    "\n",
    "print(\"Rows processed: %d\" % row_count)\n",
    "# print(\"Learned dataset %s\" % the_data)"
   ]
  },
  {
   "cell_type": "markdown",
   "metadata": {},
   "source": [
    "# Building HMM Part of Speech Model."
   ]
  },
  {
   "cell_type": "code",
   "execution_count": null,
   "metadata": {},
   "outputs": [],
   "source": [
    "%%time\n",
    "hidden = \"pos\"\n",
    "observed = \"word\"\n",
    "model_name = \"hmmPOSModel\"\n",
    "rez = prj.buildHMMModel(hidden, observed, model_name)\n"
   ]
  },
  {
   "cell_type": "code",
   "execution_count": null,
   "metadata": {},
   "outputs": [],
   "source": [
    "#print(rez)\n",
    "status_str = sml.CoreUtil.getErrorString(rez)\n",
    "print(status_str)"
   ]
  },
  {
   "cell_type": "markdown",
   "metadata": {},
   "source": [
    "# Predict Tag example with one sentence:"
   ]
  },
  {
   "cell_type": "code",
   "execution_count": null,
   "metadata": {},
   "outputs": [],
   "source": [
    "\n",
    "hmmModel = prj.getModel(model_name)\n",
    "obsj = gateway.jvm.java.util.ArrayList()\n",
    "obs = ['She','had','the','opportunity','that','few','clever','women','can','resist'] \n",
    "for tok in obs:\n",
    "    obsj.add(tok)\n",
    "    \n",
    "res = hmmModel.predict(obsj)\n",
    "res['seq']"
   ]
  },
  {
   "cell_type": "markdown",
   "metadata": {},
   "source": [
    "# Compute Accuracy of the HMM model on out of sample data"
   ]
  },
  {
   "cell_type": "code",
   "execution_count": null,
   "metadata": {},
   "outputs": [],
   "source": [
    "# helper function for accuracy calculation\n",
    "from io import StringIO\n",
    "import csv\n",
    "def _get_pos_csv_(tt):\n",
    "    f = StringIO(tt)\n",
    "    reader = csv.reader(f, delimiter=',')\n",
    "    k = 0\n",
    "    for row in reader:\n",
    "        k += 1 \n",
    "    if k > 1:\n",
    "        raise Exception(\"More than one result in tt\")     \n",
    "    return row\n",
    "\n",
    "def _accuracy(in_keys, in_data):\n",
    "    good_count = 0\n",
    "    total_count = 0\n",
    "\n",
    "    k = 0\n",
    "    tk = len(in_keys)\n",
    "    for a_test_key in in_keys:\n",
    "        a_test = in_data[a_test_key]\n",
    "        words = a_test[0]\n",
    "        pos = a_test[1]\n",
    "\n",
    "        obsj = gateway.jvm.java.util.ArrayList()\n",
    "        for tok in words:\n",
    "            obsj.add(tok)\n",
    "\n",
    "        # print(obsj)\n",
    "        res = hmmModel.predict(obsj)\n",
    "        hidden_state = res.get('seq')\n",
    "        hsa = _get_pos_csv_(hidden_state)   # hidden state array\n",
    "\n",
    "        lhsa = len(hsa)  \n",
    "        lpos = len(pos)\n",
    "        if lhsa != lpos:\n",
    "            raise Exception(\"Part of Speech good value array len:%d != predicted array len:%d\"\n",
    "                           % (lpos, lhsa))\n",
    "\n",
    "        for i in range(0, lhsa):\n",
    "            good_value = pos[i].lower()\n",
    "            pred_value = hsa[i]\n",
    "\n",
    "            if good_value == pred_value:\n",
    "                good_count += 1\n",
    "            else:\n",
    "                pass\n",
    "                #print(\"good[%s] != pred[%s]\" % (good_value, pred_value))\n",
    "            total_count += 1\n",
    "        k += 1\n",
    "        acc = (good_count / total_count)\n",
    "        print(\"prediction processed: %d of:%d pct:%f accuracy:%f \\r\" % (k, tk, (k / tk * 100), acc), end='')\n",
    "    \n",
    "    return acc"
   ]
  },
  {
   "cell_type": "code",
   "execution_count": null,
   "metadata": {},
   "outputs": [],
   "source": [
    "%%time\n",
    "acc_test = _accuracy(test_keys, the_data)   \n",
    "print(\"accuracy test %f\" % acc_test)   "
   ]
  },
  {
   "cell_type": "code",
   "execution_count": null,
   "metadata": {},
   "outputs": [],
   "source": [
    "# Clean up SML...\n",
    "prj.deleteModel(model_name)\n",
    "prj.clear()\n",
    "gateway.shutdown()\n",
    "gateway_server.kill_server()\n"
   ]
  },
  {
   "cell_type": "code",
   "execution_count": null,
   "metadata": {},
   "outputs": [],
   "source": []
  }
 ],
 "metadata": {
  "@webio": {
   "lastCommId": null,
   "lastKernelId": null
  },
  "kernelspec": {
   "display_name": "Python 3",
   "language": "python",
   "name": "python3"
  },
  "language_info": {
   "codemirror_mode": {
    "name": "ipython",
    "version": 3
   },
   "file_extension": ".py",
   "mimetype": "text/x-python",
   "name": "python",
   "nbconvert_exporter": "python",
   "pygments_lexer": "ipython3",
   "version": "3.6.7"
  }
 },
 "nbformat": 4,
 "nbformat_minor": 2
}
