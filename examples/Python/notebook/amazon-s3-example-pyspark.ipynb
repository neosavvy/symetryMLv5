{
 "cells": [
  {
   "cell_type": "markdown",
   "metadata": {},
   "source": [
    "### Run Following command to lauch pyspark in notebook mode\n",
    "\n",
    "```bash\n",
    "\n",
    "export AWS_ACCESS_KEY=YOUR_AWS_ACCESS_KEY\n",
    "export AWS_SECRET_KEY=YOUR_AWS_SECRET_KEY\n",
    "\n",
    "export PYSPARK_DRIVER_PYTHON=\"jupyter\"\n",
    "export PYSPARK_DRIVER_PYTHON_OPTS=\"notebook\"\n",
    "export SPARKHOME=YOUR_SPARK_HOME\n",
    "export PATH_TO_JARS=${SPARKHOME}/jars\n",
    "\n",
    "${SPARKHOME}/bin/pyspark --master local[2] --jars /opt/symetry/lib/sym-spark-assembly.jar,${PATH_TO_JARS}/aws-java-sdk-1.7.4.jar,${PATH_TO_JARS}/hadoop-aws-2.7.3.jar,${PATH_TO_JARS}/jets3t-0.9.4.jar --driver-java-options -Dsym.lic.loc=/opt/symetry/sym.lic\n",
    "```"
   ]
  },
  {
   "cell_type": "code",
   "execution_count": 1,
   "metadata": {},
   "outputs": [],
   "source": [
    "%matplotlib inline\n",
    "\n",
    "import os\n",
    "import pyspark\n",
    "import matplotlib.pyplot as plt\n",
    "import numpy as np\n"
   ]
  },
  {
   "cell_type": "code",
   "execution_count": 2,
   "metadata": {},
   "outputs": [],
   "source": [
    "# This function copies a Java list to a Python list.\n",
    "# The converted list is totally seperated from its Java version.\n",
    "def tolist(l):\n",
    "    if type(l)==py4j.java_collections.JavaList:\n",
    "        k = []\n",
    "        for i in range(0,len(l)):\n",
    "            k.append(tolist(l[i]))\n",
    "    else:\n",
    "        k = l\n",
    "    return k"
   ]
  },
  {
   "cell_type": "markdown",
   "metadata": {},
   "source": [
    "# Your code Starts from Here"
   ]
  },
  {
   "cell_type": "code",
   "execution_count": 3,
   "metadata": {},
   "outputs": [],
   "source": [
    "# READ Amazon S3 Credentials from env variables\n",
    "awsAccessKeyId = os.environ['AWS_ACCESS_KEY']\n",
    "awsSecretAccessKey = os.environ['AWS_SECRET_KEY']\n",
    "# print(\"awsAccessKeyId=\" + awsAccessKeyId)\n",
    "# print(\"awsSecretAccessKey=\" + awsSecretAccessKey)"
   ]
  },
  {
   "cell_type": "code",
   "execution_count": 4,
   "metadata": {},
   "outputs": [],
   "source": [
    "# Create an RDD from a CSV data file\n",
    "from pyspark.mllib.common import _py2java, _java2py\n",
    "from   py4j.java_collections import ListConverter\n",
    "\n",
    "sc._jsc.hadoopConfiguration().set(\"fs.s3n.awsAccessKeyId\",awsAccessKeyId)\n",
    "sc._jsc.hadoopConfiguration().set(\"fs.s3n.awsSecretAccessKey\",awsSecretAccessKey)\n",
    "\n",
    "myrdd  = sc.textFile(\"s3n://sml-oregon/datasets/susy/SUSYmini.csv\")\n",
    "# Convert pyspark RDD to JavaRDD\n",
    "myJavaRdd = _py2java(sc, myrdd)"
   ]
  },
  {
   "cell_type": "code",
   "execution_count": 5,
   "metadata": {},
   "outputs": [],
   "source": [
    "# The first line of CSV file are the name of the attributes\n",
    "attributeNames = myrdd.first().split(\",\")\n",
    "# The attributeTypes has to be given\n",
    "attributeTypes = [\"B\"]+[\"C\"]*(len(attributeNames)-1)"
   ]
  },
  {
   "cell_type": "code",
   "execution_count": 6,
   "metadata": {},
   "outputs": [],
   "source": [
    "# The IP address of the host if empty, project is not persisted. (Not Persisted Here)\n",
    "#sym.SymShellConfig.set(\"RedisHost\",\"localhost\")\n",
    "#sym.SymShellConfig.set(\"RedisPort\",6379)"
   ]
  },
  {
   "cell_type": "code",
   "execution_count": 7,
   "metadata": {},
   "outputs": [],
   "source": [
    "# 1) Create the Project here\n",
    "projectName     = \"amazonS3ExampleInNotebook\"\n",
    "userName        = \"c1\"\n",
    "projectType     =  0         # 0: Using CPU, 11:using GPU\n",
    "gateway         = sc._gateway\n",
    "sym             = gateway.jvm.com.sml.shell\n",
    "p               = sym.PySparkShellSymetryProject(userName,projectName, projectType)"
   ]
  },
  {
   "cell_type": "code",
   "execution_count": 8,
   "metadata": {},
   "outputs": [],
   "source": [
    "# 2) Learn the RDD\n",
    "# sc : is the SparkContext which is automatically generated (sc._jsc: is its Java version)\n",
    "p.learn(sc._jsc, myJavaRdd, attributeNames, attributeTypes, None)"
   ]
  },
  {
   "cell_type": "code",
   "execution_count": 9,
   "metadata": {},
   "outputs": [
    {
     "name": "stdout",
     "output_type": "stream",
     "text": [
      "{'variance': 0.3513659985432808, 'mean': 0.9849899268824199, 'count': 1999.0, 'skewness': 2.648875873916381, 'stddev': 0.5927613335426669}\n",
      "{'variance': 0.3513659985432808, 'mean': 0.9849899268824199, 'count': 1999.0, 'skewness': 2.648875873916381, 'stddev': 0.5927613335426669}\n"
     ]
    }
   ],
   "source": [
    "# 3)  some data exploration (univariate, and bivariate Statistics)\n",
    "print(p.univariate(4)) # exploration , see whether the project has been built correctly\n",
    "print(p.univariate(\"lepton-2-pT\")) # You may pass the name of the attribute as well\n",
    "stats = p.univariate(\"lepton-2-pT\")"
   ]
  },
  {
   "cell_type": "code",
   "execution_count": 10,
   "metadata": {},
   "outputs": [],
   "source": [
    "# Measuring some univariate statistics\n",
    "x = range(1,len(attributeNames))\n",
    "attrVariance=[p.univariate(i-1)[\"variance\"] for i in x]\n",
    "attrMean=[p.univariate(i-1)[\"mean\"] for i in x]"
   ]
  },
  {
   "cell_type": "code",
   "execution_count": 11,
   "metadata": {},
   "outputs": [
    {
     "name": "stdout",
     "output_type": "stream",
     "text": [
      "Plotting Distributions\n"
     ]
    },
    {
     "data": {
      "image/png": "[encoded data removed]",
      "text/plain": [
       "<Figure size 432x288 with 1 Axes>"
      ]
     },
     "metadata": {
      "needs_background": "light"
     },
     "output_type": "display_data"
    }
   ],
   "source": [
    "print(\"Plotting Distributions\")\n",
    "l1ptv = p.univariate(\"lepton-1-pT\")['stddev']\n",
    "l1ptm = p.univariate(\"lepton-1-pT\")['mean']\n",
    "l1ev = p.univariate(\"lepton-1-eta\")['stddev']\n",
    "l1em = p.univariate(\"lepton-1-eta\")['mean']\n",
    "l1pv = p.univariate(\"lepton-1-phi\")['stddev']\n",
    "l1pm = p.univariate(\"lepton-1-phi\")['mean']\n",
    "x = ['lepton-1-pT','lepton-1-eta','lepton-1-phi']\n",
    "e = np.array([l1ptv,l1ev,l1pv])\n",
    "y = np.array([l1ptm,l1em,l1pm])\n",
    "plt.errorbar(x, y, e, linestyle='None', marker='^')\n",
    "plt.title('Distribution of characteristics')\n",
    "plt.show()"
   ]
  },
  {
   "cell_type": "code",
   "execution_count": 12,
   "metadata": {},
   "outputs": [
    {
     "name": "stdout",
     "output_type": "stream",
     "text": [
      "-0.020117106364078388\n"
     ]
    }
   ],
   "source": [
    "print(p.bivariate(\"lepton-2-pT\",\"lepton-2-phi\")[\"linCorr\"])"
   ]
  },
  {
   "cell_type": "code",
   "execution_count": 13,
   "metadata": {},
   "outputs": [],
   "source": [
    "# calculate the pairwise correlation coefficients\n",
    "linCorr=[]\n",
    "for attr1 in attributeNames:\n",
    "    temp = []\n",
    "    for attr2 in attributeNames:  \n",
    "        b1=p.bivariate(attr1,attr2) #calculates two bivariate statistics\n",
    "        temp.append(b1[\"linCorr\"])\n",
    "    linCorr.append(temp)"
   ]
  },
  {
   "cell_type": "code",
   "execution_count": 14,
   "metadata": {},
   "outputs": [
    {
     "data": {
      "image/png": "[encoded data removed]",
      "text/plain": [
       "<Figure size 432x288 with 2 Axes>"
      ]
     },
     "metadata": {
      "needs_background": "light"
     },
     "output_type": "display_data"
    }
   ],
   "source": [
    "plt.xticks(range(0,len(attributeNames)))\n",
    "plt.yticks(range(0,len(attributeNames)))\n",
    "plt.imshow(linCorr,cmap=\"hot\",interpolation='none')\n",
    "plt.title(\"Linear Correlation\")\n",
    "_ = plt.colorbar()"
   ]
  },
  {
   "cell_type": "code",
   "execution_count": 15,
   "metadata": {},
   "outputs": [
    {
     "name": "stdout",
     "output_type": "stream",
     "text": [
      "2.3567339824633438\n",
      "[-0.1715650863859292, 0.37180823863357193, 0.10968450448516984, -0.03554998017910107, -0.049307628024638235, -0.23443750366301394, -0.04144273125975512, -0.035095656772826285, -0.00822403116548479, 0.40360445267389683, -0.10604810956401972, -0.36305390489440054, -0.4793549225480865, 0.15231892354310853, -0.19347572984756442, -0.038900035171927326, -0.3965040983530511, -0.059379099549966105]\n"
     ]
    }
   ],
   "source": [
    "# 4) Perform PCA\n",
    "e1 = p.pca(range(1,19)) # returns a Tuple[eigenvalues,eigenvectors]\n",
    "print(e1[\"EigenValues\"][0])                                     # the first eigen-values\n",
    "print(e1[\"EigenVectors\"][0])                                      # the first eigen-vectors"
   ]
  },
  {
   "cell_type": "code",
   "execution_count": 16,
   "metadata": {},
   "outputs": [
    {
     "data": {
      "text/plain": [
       "<matplotlib.colorbar.Colorbar at 0x11a286fd0>"
      ]
     },
     "execution_count": 16,
     "metadata": {},
     "output_type": "execute_result"
    },
    {
     "data": {
      "image/png": "[encoded data removed]",
      "text/plain": [
       "<Figure size 432x288 with 2 Axes>"
      ]
     },
     "metadata": {
      "needs_background": "light"
     },
     "output_type": "display_data"
    }
   ],
   "source": [
    "v = e1[\"EigenVectors\"][0:5]\n",
    "v = tolist(v)\n",
    "# in order to plot e1 ,we need to convert it to a List, we used predefined tolist function\n",
    "\n",
    "plt.xticks(range(0,len(attributeNames)))\n",
    "plt.yticks(range(0,len(attributeNames)))\n",
    "plt.imshow(v,cmap=\"hot\",interpolation='none')\n",
    "plt.ylabel(\"PCA EigenVectos\")\n",
    "plt.colorbar()"
   ]
  },
  {
   "cell_type": "code",
   "execution_count": 17,
   "metadata": {},
   "outputs": [],
   "source": [
    "e2 = p.pca([\n",
    "    \"lepton-1-pT\",\n",
    "    \"lepton-1-eta\", \"lepton-1-phi\",\n",
    "    \"lepton-2-pT\", \"lepton-2-eta\"])"
   ]
  },
  {
   "cell_type": "code",
   "execution_count": 18,
   "metadata": {},
   "outputs": [
    {
     "data": {
      "text/plain": [
       "0"
      ]
     },
     "execution_count": 18,
     "metadata": {},
     "output_type": "execute_result"
    }
   ],
   "source": [
    "# 5) Build model\n",
    "tar   = [0]                              # The forth Attribute is used as Target\n",
    "input = range(1,19)                      # The first four attribute used as as Input\n",
    " \n",
    "p.buildModel(input, tar, \"lsvm\", \"mySvmModel\")       # The Model is know built"
   ]
  },
  {
   "cell_type": "code",
   "execution_count": 19,
   "metadata": {},
   "outputs": [
    {
     "name": "stdout",
     "output_type": "stream",
     "text": [
      "{'res': ['1'], 'svmres0': ['0.39753483949230883']}\n"
     ]
    }
   ],
   "source": [
    "# One row of data (Attributes are comma separated)\n",
    "# Here in this model, the first Attribute is the Target,\n",
    "# we put an arbitrary value as it will be ignored in the prediction\n",
    "\n",
    "# The response for this example should be 1\n",
    "test1 = [\"-1\",\"1.667973\", \"0.0641906\",\"-1.2251714\",\n",
    "\"0.506102\", \"-0.3389389\", \"1.6725428\",\n",
    "\"3.475464\", \"-1.2191363\", \"0.0129545\",\n",
    "\"3.775173\", \"1.0459771\",  \"0.5680512\",\n",
    "\"0.481928\", \"0.0000000\", \"0.4484102\",\n",
    "\"0.205355\", \"1.3218934\", \"0.3775840\"]\n",
    "\n",
    "df1 = sym.PyDataFrame() # The dataframe has to be type PyDataFrame\n",
    "df1.setAttributeNames(attributeNames)\n",
    "df1.setAttributeTypes(attributeTypes)\n",
    "df1.addTuple(test1)\n",
    "results1 = p.predict(df1,\"mySvmModel\")\n",
    "print(results1)"
   ]
  },
  {
   "cell_type": "code",
   "execution_count": 20,
   "metadata": {},
   "outputs": [
    {
     "name": "stdout",
     "output_type": "stream",
     "text": [
      "{'res': ['0'], 'svmres0': ['-0.12452965916655959']}\n"
     ]
    }
   ],
   "source": [
    "# The response for this example should be 0\n",
    "test2 = [\"-1\",\"1.001869\",\"-0.471788\",\"0.555614\",\n",
    "\"1.233368\",\"1.255548\",\"-1.052491\",\n",
    "\"0.437615\",\"-1.333052\",\"0.326858\",\n",
    "\"-0.111678\",\"1.435708\",\"0.755201\",\n",
    "\"0.466779\",\"0.454541\",\"1.446331\",\n",
    "\"0.592259\",\"1.325197\",\"0.083014\"]\n",
    "\n",
    "df1.clear()\n",
    "df1.addTuple(test2)\n",
    "results2 = p.predict(df1,\"mySvmModel\")\n",
    "print(results2)"
   ]
  },
  {
   "cell_type": "code",
   "execution_count": 21,
   "metadata": {},
   "outputs": [],
   "source": [
    "# STEP 6) You can delete the Model to release the used memory\n",
    "p.deleteModel(\"mySvmModel\")\n",
    "\n",
    "# STEP 7) Tou can delete the Project to release the used memory\n",
    "p.deleteProject()"
   ]
  },
  {
   "cell_type": "code",
   "execution_count": 22,
   "metadata": {},
   "outputs": [
    {
     "name": "stdout",
     "output_type": "stream",
     "text": [
      "amazonS3Example.ipynb end\n"
     ]
    }
   ],
   "source": [
    "print(\"amazonS3Example.ipynb end\")"
   ]
  },
  {
   "cell_type": "code",
   "execution_count": null,
   "metadata": {},
   "outputs": [],
   "source": []
  }
 ],
 "metadata": {
  "@webio": {
   "lastCommId": null,
   "lastKernelId": null
  },
  "anaconda-cloud": {},
  "kernelspec": {
   "display_name": "Python 3",
   "language": "python",
   "name": "python3"
  },
  "language_info": {
   "codemirror_mode": {
    "name": "ipython",
    "version": 3
   },
   "file_extension": ".py",
   "mimetype": "text/x-python",
   "name": "python",
   "nbconvert_exporter": "python",
   "pygments_lexer": "ipython3",
   "version": "3.6.7"
  }
 },
 "nbformat": 4,
 "nbformat_minor": 1
}
